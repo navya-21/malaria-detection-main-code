{
  "nbformat": 4,
  "nbformat_minor": 0,
  "metadata": {
    "kernelspec": {
      "display_name": "Python 3",
      "language": "python",
      "name": "python3"
    },
    "language_info": {
      "codemirror_mode": {
        "name": "ipython",
        "version": 3
      },
      "file_extension": ".py",
      "mimetype": "text/x-python",
      "name": "python",
      "nbconvert_exporter": "python",
      "pygments_lexer": "ipython3",
      "version": "3.7.4"
    },
    "colab": {
      "name": "malaria detection.ipynb",
      "provenance": [],
      "collapsed_sections": []
    }
  },
  "cells": [
    {
      "cell_type": "code",
      "metadata": {
        "id": "xVrngDbWo1GH",
        "colab_type": "code",
        "colab": {}
      },
      "source": [
        "from keras.models import Sequential\n",
        "from keras.layers import Dense\n",
        "from keras.layers import Convolution2D\n",
        "from keras.layers import MaxPooling2D\n",
        "from keras.layers import Flatten"
      ],
      "execution_count": 0,
      "outputs": []
    },
    {
      "cell_type": "code",
      "metadata": {
        "id": "i-O7HDf_o1Gn",
        "colab_type": "code",
        "colab": {}
      },
      "source": [
        "model = Sequential()\n"
      ],
      "execution_count": 0,
      "outputs": []
    },
    {
      "cell_type": "code",
      "metadata": {
        "id": "zJeVd9wlo1G5",
        "colab_type": "code",
        "outputId": "fc38ba7e-a528-4383-d9f6-3d3cbd88838a",
        "colab": {
          "base_uri": "https://localhost:8080/",
          "height": 71
        }
      },
      "source": [
        "model.add(Convolution2D(32,3,3,input_shape=(64,64,3),activation = 'relu'))"
      ],
      "execution_count": 0,
      "outputs": [
        {
          "output_type": "stream",
          "text": [
            "/usr/local/lib/python3.6/dist-packages/ipykernel_launcher.py:1: UserWarning: Update your `Conv2D` call to the Keras 2 API: `Conv2D(32, (3, 3), input_shape=(64, 64, 3..., activation=\"relu\")`\n",
            "  \"\"\"Entry point for launching an IPython kernel.\n"
          ],
          "name": "stderr"
        }
      ]
    },
    {
      "cell_type": "code",
      "metadata": {
        "id": "UfSvA3Sjo1HK",
        "colab_type": "code",
        "colab": {}
      },
      "source": [
        "model.add(MaxPooling2D(pool_size = (2,2)))"
      ],
      "execution_count": 0,
      "outputs": []
    },
    {
      "cell_type": "code",
      "metadata": {
        "id": "b2QL3zgto1Ht",
        "colab_type": "code",
        "colab": {}
      },
      "source": [
        "model.add(Flatten()) #input layer to the ann"
      ],
      "execution_count": 0,
      "outputs": []
    },
    {
      "cell_type": "code",
      "metadata": {
        "id": "NJYS5Vzeo1H-",
        "colab_type": "code",
        "outputId": "8efd8c13-180c-47f2-a140-377782dcae85",
        "colab": {
          "base_uri": "https://localhost:8080/",
          "height": 71
        }
      },
      "source": [
        "#hidden layers\n",
        "model.add(Dense(init = \"uniform\",activation='relu',units=300))"
      ],
      "execution_count": 0,
      "outputs": [
        {
          "output_type": "stream",
          "text": [
            "/usr/local/lib/python3.6/dist-packages/ipykernel_launcher.py:2: UserWarning: Update your `Dense` call to the Keras 2 API: `Dense(activation=\"relu\", units=300, kernel_initializer=\"uniform\")`\n",
            "  \n"
          ],
          "name": "stderr"
        }
      ]
    },
    {
      "cell_type": "code",
      "metadata": {
        "id": "KbLp4UbWo1IS",
        "colab_type": "code",
        "outputId": "fd9dcfca-e52b-4f5d-db8f-c2746eff3650",
        "colab": {
          "base_uri": "https://localhost:8080/",
          "height": 71
        }
      },
      "source": [
        "model.add(Dense(init = \"uniform\",activation =\"relu\",units = 1))"
      ],
      "execution_count": 0,
      "outputs": [
        {
          "output_type": "stream",
          "text": [
            "/usr/local/lib/python3.6/dist-packages/ipykernel_launcher.py:1: UserWarning: Update your `Dense` call to the Keras 2 API: `Dense(activation=\"relu\", units=1, kernel_initializer=\"uniform\")`\n",
            "  \"\"\"Entry point for launching an IPython kernel.\n"
          ],
          "name": "stderr"
        }
      ]
    },
    {
      "cell_type": "code",
      "metadata": {
        "id": "SkykQqulo1Ii",
        "colab_type": "code",
        "colab": {}
      },
      "source": [
        "model.compile(loss =\"binary_crossentropy\",optimizer =\"adam\",metrics =[\"accuracy\"])"
      ],
      "execution_count": 0,
      "outputs": []
    },
    {
      "cell_type": "code",
      "metadata": {
        "id": "mTe1js9Wo1Iy",
        "colab_type": "code",
        "colab": {}
      },
      "source": [
        "from keras.preprocessing.image import ImageDataGenerator\n",
        "train_datagen = ImageDataGenerator(rescale = 1./255, shear_range = 0.2,zoom_range =  0.2,horizontal_flip = True)\n",
        "test_datagen =  ImageDataGenerator(rescale = 1./255)\n"
      ],
      "execution_count": 0,
      "outputs": []
    },
    {
      "cell_type": "code",
      "metadata": {
        "id": "Xc4cuc79o1JC",
        "colab_type": "code",
        "outputId": "7e287df7-6560-4d9d-c5fa-ed9938a0c76c",
        "colab": {
          "base_uri": "https://localhost:8080/",
          "height": 51
        }
      },
      "source": [
        "x_train = train_datagen.flow_from_directory(\"/content/malaria detection using DL\",target_size = (64,64),batch_size = 32 ,  class_mode  = \"binary\")\n",
        "x_test  = test_datagen.flow_from_directory(\"/content/malaria detection using DL\",target_size = (64,64),batch_size = 32 ,  class_mode  = \"binary\")"
      ],
      "execution_count": 0,
      "outputs": [
        {
          "output_type": "stream",
          "text": [
            "Found 12 images belonging to 3 classes.\n",
            "Found 12 images belonging to 3 classes.\n"
          ],
          "name": "stdout"
        }
      ]
    },
    {
      "cell_type": "code",
      "metadata": {
        "id": "9K3B44Ogo1JS",
        "colab_type": "code",
        "outputId": "95a0eba4-86aa-46a5-b420-946cbca8a912",
        "colab": {
          "base_uri": "https://localhost:8080/",
          "height": 89
        }
      },
      "source": [
        "model.fit_generator(x_train,steps_per_epoch = 250,epochs=1,validation_data = x_test,validation_steps = 63)"
      ],
      "execution_count": 0,
      "outputs": [
        {
          "output_type": "stream",
          "text": [
            "Epoch 1/1\n",
            "250/250 [==============================] - 47s 188ms/step - loss: -8.8894 - accuracy: 0.0000e+00 - val_loss: -8.8954 - val_accuracy: 0.0000e+00\n"
          ],
          "name": "stdout"
        },
        {
          "output_type": "execute_result",
          "data": {
            "text/plain": [
              "<keras.callbacks.callbacks.History at 0x7f94e4343f28>"
            ]
          },
          "metadata": {
            "tags": []
          },
          "execution_count": 76
        }
      ]
    },
    {
      "cell_type": "code",
      "metadata": {
        "id": "bWcpXdRfo1Jn",
        "colab_type": "code",
        "colab": {}
      },
      "source": [
        "model.save(\"cnn.h5\")"
      ],
      "execution_count": 0,
      "outputs": []
    },
    {
      "cell_type": "code",
      "metadata": {
        "id": "Ilul4ubmo1J2",
        "colab_type": "code",
        "colab": {}
      },
      "source": [
        "from keras.models import load_model\n",
        "from keras.preprocessing import image\n",
        "import numpy as np# hi\n",
        "model = load_model(\"cnn.h5\")"
      ],
      "execution_count": 0,
      "outputs": []
    },
    {
      "cell_type": "code",
      "metadata": {
        "id": "PwnGYyFDsTlV",
        "colab_type": "code",
        "outputId": "8758b92f-e68a-4007-d1cf-374385073a41",
        "colab": {
          "base_uri": "https://localhost:8080/",
          "height": 34
        }
      },
      "source": [
        "c=image.load_img(\"/content/malaria detection using DL/Train/nj.png\",target_size=(64,64))\n",
        "x= image.img_to_array(c)# malaria\\ detection\\ using\\ DL\n",
        "x= np.expand_dims(x,axis=0)\n",
        "x.shape#()"
      ],
      "execution_count": 0,
      "outputs": [
        {
          "output_type": "execute_result",
          "data": {
            "text/plain": [
              "(1, 64, 64, 3)"
            ]
          },
          "metadata": {
            "tags": []
          },
          "execution_count": 89
        }
      ]
    },
    {
      "cell_type": "code",
      "metadata": {
        "id": "txQRN3Rgxb17",
        "colab_type": "code",
        "outputId": "1043be2a-34a1-460f-dc7c-9eecc7635c12",
        "colab": {
          "base_uri": "https://localhost:8080/",
          "height": 34
        }
      },
      "source": [
        "pred=model.predict_classes(x)\n",
        "pred"
      ],
      "execution_count": 0,
      "outputs": [
        {
          "output_type": "execute_result",
          "data": {
            "text/plain": [
              "array([[1]], dtype=int32)"
            ]
          },
          "metadata": {
            "tags": []
          },
          "execution_count": 92
        }
      ]
    }
  ]
}